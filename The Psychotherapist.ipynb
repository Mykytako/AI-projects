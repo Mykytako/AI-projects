{
 "cells": [
  {
   "cell_type": "markdown",
   "metadata": {
    "id": "_4eoXqRT4KOH"
   },
   "source": [
    "# Setup"
   ]
  },
  {
   "cell_type": "code",
   "execution_count": 1,
   "metadata": {
    "colab": {
     "base_uri": "https://localhost:8080/"
    },
    "collapsed": true,
    "executionInfo": {
     "elapsed": 34067,
     "status": "ok",
     "timestamp": 1732648992186,
     "user": {
      "displayName": "Gladys Mawarni",
      "userId": "03879441175200282144"
     },
     "user_tz": 0
    },
    "id": "RYrbXVa6oq-a",
    "outputId": "81f82796-5323-4b9c-e1ce-0c63c7e00a80"
   },
   "outputs": [
    {
     "name": "stdout",
     "output_type": "stream",
     "text": [
      "Collecting git+https://github.com/openai/swarm.git\n",
      "  Cloning https://github.com/openai/swarm.git to c:\\users\\kondr\\appdata\\local\\temp\\pip-req-build-4rx4mcgd\n",
      "  Resolved https://github.com/openai/swarm.git to commit 9db581cecaacea0d46a933d6453c312b034dbf47\n",
      "  Installing build dependencies: started\n",
      "  Installing build dependencies: finished with status 'done'\n",
      "  Getting requirements to build wheel: started\n",
      "  Getting requirements to build wheel: finished with status 'done'\n",
      "  Preparing metadata (pyproject.toml): started\n",
      "  Preparing metadata (pyproject.toml): finished with status 'done'\n",
      "Requirement already satisfied: numpy in c:\\users\\kondr\\anaconda3\\envs\\llm2\\lib\\site-packages (from swarm==0.1.0) (1.26.4)\n",
      "Requirement already satisfied: openai>=1.33.0 in c:\\users\\kondr\\anaconda3\\envs\\llm2\\lib\\site-packages (from swarm==0.1.0) (1.59.6)\n",
      "Collecting pytest (from swarm==0.1.0)\n",
      "  Downloading pytest-8.3.4-py3-none-any.whl.metadata (7.5 kB)\n",
      "Requirement already satisfied: requests in c:\\users\\kondr\\anaconda3\\envs\\llm2\\lib\\site-packages (from swarm==0.1.0) (2.32.3)\n",
      "Requirement already satisfied: tqdm in c:\\users\\kondr\\anaconda3\\envs\\llm2\\lib\\site-packages (from swarm==0.1.0) (4.67.1)\n",
      "Collecting pre-commit (from swarm==0.1.0)\n",
      "  Downloading pre_commit-4.0.1-py2.py3-none-any.whl.metadata (1.3 kB)\n",
      "Collecting instructor (from swarm==0.1.0)\n",
      "  Downloading instructor-1.7.2-py3-none-any.whl.metadata (18 kB)\n",
      "Requirement already satisfied: anyio<5,>=3.5.0 in c:\\users\\kondr\\anaconda3\\envs\\llm2\\lib\\site-packages (from openai>=1.33.0->swarm==0.1.0) (4.8.0)\n",
      "Requirement already satisfied: distro<2,>=1.7.0 in c:\\users\\kondr\\anaconda3\\envs\\llm2\\lib\\site-packages (from openai>=1.33.0->swarm==0.1.0) (1.9.0)\n",
      "Requirement already satisfied: httpx<1,>=0.23.0 in c:\\users\\kondr\\anaconda3\\envs\\llm2\\lib\\site-packages (from openai>=1.33.0->swarm==0.1.0) (0.27.2)\n",
      "Requirement already satisfied: jiter<1,>=0.4.0 in c:\\users\\kondr\\anaconda3\\envs\\llm2\\lib\\site-packages (from openai>=1.33.0->swarm==0.1.0) (0.8.2)\n",
      "Requirement already satisfied: pydantic<3,>=1.9.0 in c:\\users\\kondr\\anaconda3\\envs\\llm2\\lib\\site-packages (from openai>=1.33.0->swarm==0.1.0) (2.10.5)\n",
      "Requirement already satisfied: sniffio in c:\\users\\kondr\\anaconda3\\envs\\llm2\\lib\\site-packages (from openai>=1.33.0->swarm==0.1.0) (1.3.1)\n",
      "Requirement already satisfied: typing-extensions<5,>=4.11 in c:\\users\\kondr\\anaconda3\\envs\\llm2\\lib\\site-packages (from openai>=1.33.0->swarm==0.1.0) (4.12.2)\n",
      "Requirement already satisfied: colorama in c:\\users\\kondr\\anaconda3\\envs\\llm2\\lib\\site-packages (from tqdm->swarm==0.1.0) (0.4.6)\n",
      "Requirement already satisfied: aiohttp<4.0.0,>=3.9.1 in c:\\users\\kondr\\anaconda3\\envs\\llm2\\lib\\site-packages (from instructor->swarm==0.1.0) (3.11.11)\n",
      "Collecting docstring-parser<1.0,>=0.16 (from instructor->swarm==0.1.0)\n",
      "  Downloading docstring_parser-0.16-py3-none-any.whl.metadata (3.0 kB)\n",
      "Requirement already satisfied: jinja2<4.0.0,>=3.1.4 in c:\\users\\kondr\\anaconda3\\envs\\llm2\\lib\\site-packages (from instructor->swarm==0.1.0) (3.1.5)\n",
      "Requirement already satisfied: pydantic-core<3.0.0,>=2.18.0 in c:\\users\\kondr\\anaconda3\\envs\\llm2\\lib\\site-packages (from instructor->swarm==0.1.0) (2.27.2)\n",
      "Requirement already satisfied: rich<14.0.0,>=13.7.0 in c:\\users\\kondr\\anaconda3\\envs\\llm2\\lib\\site-packages (from instructor->swarm==0.1.0) (13.9.4)\n",
      "Requirement already satisfied: tenacity<10.0.0,>=9.0.0 in c:\\users\\kondr\\anaconda3\\envs\\llm2\\lib\\site-packages (from instructor->swarm==0.1.0) (9.0.0)\n",
      "Requirement already satisfied: typer<1.0.0,>=0.9.0 in c:\\users\\kondr\\anaconda3\\envs\\llm2\\lib\\site-packages (from instructor->swarm==0.1.0) (0.15.1)\n",
      "Requirement already satisfied: charset_normalizer<4,>=2 in c:\\users\\kondr\\anaconda3\\envs\\llm2\\lib\\site-packages (from requests->swarm==0.1.0) (3.4.1)\n",
      "Requirement already satisfied: idna<4,>=2.5 in c:\\users\\kondr\\anaconda3\\envs\\llm2\\lib\\site-packages (from requests->swarm==0.1.0) (3.10)\n",
      "Requirement already satisfied: urllib3<3,>=1.21.1 in c:\\users\\kondr\\anaconda3\\envs\\llm2\\lib\\site-packages (from requests->swarm==0.1.0) (2.3.0)\n",
      "Requirement already satisfied: certifi>=2017.4.17 in c:\\users\\kondr\\anaconda3\\envs\\llm2\\lib\\site-packages (from requests->swarm==0.1.0) (2024.12.14)\n",
      "Collecting cfgv>=2.0.0 (from pre-commit->swarm==0.1.0)\n",
      "  Using cached cfgv-3.4.0-py2.py3-none-any.whl.metadata (8.5 kB)\n",
      "Collecting identify>=1.0.0 (from pre-commit->swarm==0.1.0)\n",
      "  Downloading identify-2.6.5-py2.py3-none-any.whl.metadata (4.4 kB)\n",
      "Collecting nodeenv>=0.11.1 (from pre-commit->swarm==0.1.0)\n",
      "  Using cached nodeenv-1.9.1-py2.py3-none-any.whl.metadata (21 kB)\n",
      "Requirement already satisfied: pyyaml>=5.1 in c:\\users\\kondr\\anaconda3\\envs\\llm2\\lib\\site-packages (from pre-commit->swarm==0.1.0) (6.0.2)\n",
      "Collecting virtualenv>=20.10.0 (from pre-commit->swarm==0.1.0)\n",
      "  Downloading virtualenv-20.28.1-py3-none-any.whl.metadata (4.5 kB)\n",
      "Collecting iniconfig (from pytest->swarm==0.1.0)\n",
      "  Downloading iniconfig-2.0.0-py3-none-any.whl.metadata (2.6 kB)\n",
      "Requirement already satisfied: packaging in c:\\users\\kondr\\anaconda3\\envs\\llm2\\lib\\site-packages (from pytest->swarm==0.1.0) (24.2)\n",
      "Collecting pluggy<2,>=1.5 (from pytest->swarm==0.1.0)\n",
      "  Downloading pluggy-1.5.0-py3-none-any.whl.metadata (4.8 kB)\n",
      "Requirement already satisfied: aiohappyeyeballs>=2.3.0 in c:\\users\\kondr\\anaconda3\\envs\\llm2\\lib\\site-packages (from aiohttp<4.0.0,>=3.9.1->instructor->swarm==0.1.0) (2.4.4)\n",
      "Requirement already satisfied: aiosignal>=1.1.2 in c:\\users\\kondr\\anaconda3\\envs\\llm2\\lib\\site-packages (from aiohttp<4.0.0,>=3.9.1->instructor->swarm==0.1.0) (1.3.2)\n",
      "Requirement already satisfied: attrs>=17.3.0 in c:\\users\\kondr\\anaconda3\\envs\\llm2\\lib\\site-packages (from aiohttp<4.0.0,>=3.9.1->instructor->swarm==0.1.0) (24.3.0)\n",
      "Requirement already satisfied: frozenlist>=1.1.1 in c:\\users\\kondr\\anaconda3\\envs\\llm2\\lib\\site-packages (from aiohttp<4.0.0,>=3.9.1->instructor->swarm==0.1.0) (1.5.0)\n",
      "Requirement already satisfied: multidict<7.0,>=4.5 in c:\\users\\kondr\\anaconda3\\envs\\llm2\\lib\\site-packages (from aiohttp<4.0.0,>=3.9.1->instructor->swarm==0.1.0) (6.1.0)\n",
      "Requirement already satisfied: propcache>=0.2.0 in c:\\users\\kondr\\anaconda3\\envs\\llm2\\lib\\site-packages (from aiohttp<4.0.0,>=3.9.1->instructor->swarm==0.1.0) (0.2.1)\n",
      "Requirement already satisfied: yarl<2.0,>=1.17.0 in c:\\users\\kondr\\anaconda3\\envs\\llm2\\lib\\site-packages (from aiohttp<4.0.0,>=3.9.1->instructor->swarm==0.1.0) (1.18.3)\n",
      "Requirement already satisfied: httpcore==1.* in c:\\users\\kondr\\anaconda3\\envs\\llm2\\lib\\site-packages (from httpx<1,>=0.23.0->openai>=1.33.0->swarm==0.1.0) (1.0.7)\n",
      "Requirement already satisfied: h11<0.15,>=0.13 in c:\\users\\kondr\\anaconda3\\envs\\llm2\\lib\\site-packages (from httpcore==1.*->httpx<1,>=0.23.0->openai>=1.33.0->swarm==0.1.0) (0.14.0)\n",
      "Requirement already satisfied: MarkupSafe>=2.0 in c:\\users\\kondr\\anaconda3\\envs\\llm2\\lib\\site-packages (from jinja2<4.0.0,>=3.1.4->instructor->swarm==0.1.0) (2.1.5)\n",
      "Requirement already satisfied: annotated-types>=0.6.0 in c:\\users\\kondr\\anaconda3\\envs\\llm2\\lib\\site-packages (from pydantic<3,>=1.9.0->openai>=1.33.0->swarm==0.1.0) (0.7.0)\n",
      "Requirement already satisfied: markdown-it-py>=2.2.0 in c:\\users\\kondr\\anaconda3\\envs\\llm2\\lib\\site-packages (from rich<14.0.0,>=13.7.0->instructor->swarm==0.1.0) (3.0.0)\n",
      "Requirement already satisfied: pygments<3.0.0,>=2.13.0 in c:\\users\\kondr\\anaconda3\\envs\\llm2\\lib\\site-packages (from rich<14.0.0,>=13.7.0->instructor->swarm==0.1.0) (2.19.1)\n",
      "Requirement already satisfied: click>=8.0.0 in c:\\users\\kondr\\anaconda3\\envs\\llm2\\lib\\site-packages (from typer<1.0.0,>=0.9.0->instructor->swarm==0.1.0) (8.1.8)\n",
      "Requirement already satisfied: shellingham>=1.3.0 in c:\\users\\kondr\\anaconda3\\envs\\llm2\\lib\\site-packages (from typer<1.0.0,>=0.9.0->instructor->swarm==0.1.0) (1.5.4)\n",
      "Collecting distlib<1,>=0.3.7 (from virtualenv>=20.10.0->pre-commit->swarm==0.1.0)\n",
      "  Downloading distlib-0.3.9-py2.py3-none-any.whl.metadata (5.2 kB)\n",
      "Requirement already satisfied: filelock<4,>=3.12.2 in c:\\users\\kondr\\anaconda3\\envs\\llm2\\lib\\site-packages (from virtualenv>=20.10.0->pre-commit->swarm==0.1.0) (3.16.1)\n",
      "Requirement already satisfied: platformdirs<5,>=3.9.1 in c:\\users\\kondr\\anaconda3\\envs\\llm2\\lib\\site-packages (from virtualenv>=20.10.0->pre-commit->swarm==0.1.0) (4.3.6)\n",
      "Requirement already satisfied: mdurl~=0.1 in c:\\users\\kondr\\anaconda3\\envs\\llm2\\lib\\site-packages (from markdown-it-py>=2.2.0->rich<14.0.0,>=13.7.0->instructor->swarm==0.1.0) (0.1.2)\n",
      "Downloading instructor-1.7.2-py3-none-any.whl (71 kB)\n",
      "Downloading pre_commit-4.0.1-py2.py3-none-any.whl (218 kB)\n",
      "Downloading pytest-8.3.4-py3-none-any.whl (343 kB)\n",
      "Using cached cfgv-3.4.0-py2.py3-none-any.whl (7.2 kB)\n",
      "Downloading docstring_parser-0.16-py3-none-any.whl (36 kB)\n",
      "Downloading identify-2.6.5-py2.py3-none-any.whl (99 kB)\n",
      "Using cached nodeenv-1.9.1-py2.py3-none-any.whl (22 kB)\n",
      "Downloading pluggy-1.5.0-py3-none-any.whl (20 kB)\n",
      "Downloading virtualenv-20.28.1-py3-none-any.whl (4.3 MB)\n",
      "   ---------------------------------------- 0.0/4.3 MB ? eta -:--:--\n",
      "   ---------------------------------------- 4.3/4.3 MB 32.1 MB/s eta 0:00:00\n",
      "Downloading iniconfig-2.0.0-py3-none-any.whl (5.9 kB)\n",
      "Downloading distlib-0.3.9-py2.py3-none-any.whl (468 kB)\n",
      "Building wheels for collected packages: swarm\n",
      "  Building wheel for swarm (pyproject.toml): started\n",
      "  Building wheel for swarm (pyproject.toml): finished with status 'done'\n",
      "  Created wheel for swarm: filename=swarm-0.1.0-py3-none-any.whl size=26247 sha256=2cfb66f645e42145acc9107946b2a83ace8344c137cd0510d6d044b5c83a0e22\n",
      "  Stored in directory: C:\\Users\\kondr\\AppData\\Local\\Temp\\pip-ephem-wheel-cache-mo8la0ts\\wheels\\47\\7e\\5a\\169b426f55cd9f5e72c56699396fb513a6b8d739a3d50bd9c6\n",
      "Successfully built swarm\n",
      "Installing collected packages: distlib, virtualenv, pluggy, nodeenv, iniconfig, identify, docstring-parser, cfgv, pytest, pre-commit, instructor, swarm\n",
      "Successfully installed cfgv-3.4.0 distlib-0.3.9 docstring-parser-0.16 identify-2.6.5 iniconfig-2.0.0 instructor-1.7.2 nodeenv-1.9.1 pluggy-1.5.0 pre-commit-4.0.1 pytest-8.3.4 swarm-0.1.0 virtualenv-20.28.1\n"
     ]
    },
    {
     "name": "stderr",
     "output_type": "stream",
     "text": [
      "  Running command git clone --filter=blob:none --quiet https://github.com/openai/swarm.git 'C:\\Users\\kondr\\AppData\\Local\\Temp\\pip-req-build-4rx4mcgd'\n"
     ]
    },
    {
     "name": "stdout",
     "output_type": "stream",
     "text": [
      "Requirement already satisfied: requests in c:\\users\\kondr\\anaconda3\\envs\\llm2\\lib\\site-packages (2.32.3)\n",
      "Requirement already satisfied: charset_normalizer<4,>=2 in c:\\users\\kondr\\anaconda3\\envs\\llm2\\lib\\site-packages (from requests) (3.4.1)\n",
      "Requirement already satisfied: idna<4,>=2.5 in c:\\users\\kondr\\anaconda3\\envs\\llm2\\lib\\site-packages (from requests) (3.10)\n",
      "Requirement already satisfied: urllib3<3,>=1.21.1 in c:\\users\\kondr\\anaconda3\\envs\\llm2\\lib\\site-packages (from requests) (2.3.0)\n",
      "Requirement already satisfied: certifi>=2017.4.17 in c:\\users\\kondr\\anaconda3\\envs\\llm2\\lib\\site-packages (from requests) (2024.12.14)\n"
     ]
    }
   ],
   "source": [
    "# Install the 'swarm' library from GitHub and the 'requests' library for HTTP requests\n",
    "!pip install git+https://github.com/openai/swarm.git\n",
    "!pip install requests"
   ]
  },
  {
   "cell_type": "code",
   "execution_count": 2,
   "metadata": {},
   "outputs": [],
   "source": [
    "from dotenv import load_dotenv\n",
    "import os"
   ]
  },
  {
   "cell_type": "code",
   "execution_count": 3,
   "metadata": {
    "id": "lJD0iBTLouZz"
   },
   "outputs": [
    {
     "name": "stdout",
     "output_type": "stream",
     "text": [
      "OpenAI API Key exists and begins sk-proj-\n"
     ]
    }
   ],
   "source": [
    "# # Set OpenAI key in the environment\n",
    "\n",
    "\n",
    "# api_key = userdata.get('OPENAI_API_KEY')\n",
    "# os.environ['OPENAI_API_KEY'] = api_key\n",
    "\n",
    "load_dotenv()\n",
    "\n",
    "api_key = os.getenv('OPENAI_API_KEY')\n",
    "if api_key:\n",
    "    print(f\"OpenAI API Key exists and begins {api_key[:8]}\")\n",
    "else:\n",
    "    print(\"OpenAI API Key not set\")"
   ]
  },
  {
   "cell_type": "code",
   "execution_count": 4,
   "metadata": {
    "id": "hWcw67wrtYA4"
   },
   "outputs": [],
   "source": [
    "from swarm import Swarm, Agent\n",
    "import requests\n",
    "from IPython.display import Markdown\n",
    "import json\n",
    "from bs4 import BeautifulSoup"
   ]
  },
  {
   "cell_type": "markdown",
   "metadata": {
    "id": "0iXBSSNk0Hw0"
   },
   "source": [
    "## Motivator"
   ]
  },
  {
   "cell_type": "code",
   "execution_count": 5,
   "metadata": {
    "id": "x-XxG8xM0Jfp"
   },
   "outputs": [],
   "source": [
    "def get_motivational_quotes():\n",
    "  return requests.get('https://stoic.tekloon.net/stoic-quote').json()"
   ]
  },
  {
   "cell_type": "code",
   "execution_count": 6,
   "metadata": {
    "id": "QwSRrjKM5kGy"
   },
   "outputs": [],
   "source": [
    "motivator_agent = Agent(\n",
    "    name=\"Motivator Agent\",\n",
    "    instructions=\"Motivate student with stoic motivational quotes, present the quotes and relate it to student's experience.\",\n",
    "    functions=[get_motivational_quotes],\n",
    ")"
   ]
  },
  {
   "cell_type": "code",
   "execution_count": 7,
   "metadata": {
    "id": "UnU2vysI5-fG"
   },
   "outputs": [],
   "source": [
    "def transfer_to_motivator():\n",
    "    return motivator_agent"
   ]
  },
  {
   "cell_type": "markdown",
   "metadata": {
    "id": "O0F5ZR460GQr"
   },
   "source": [
    "## Counselor"
   ]
  },
  {
   "cell_type": "code",
   "execution_count": 8,
   "metadata": {
    "id": "FCgORdsg7I0L"
   },
   "outputs": [],
   "source": [
    "def counselor(context_variables):\n",
    "    # Retrieve student's academic information\n",
    "    students_academic = context_variables.get(\"academic_info\", None)\n",
    "\n",
    "    # Return detailed, friendly, and approachable instructions\n",
    "    return f\"\"\"\n",
    "    You are a high school counselor specializing in helping students improve their academic performance\n",
    "    and achieve admission to their dream universities.\n",
    "\n",
    "    provide personalized advice and guidance tailored to their goals.\n",
    "\n",
    "    Your approach should be:\n",
    "    - Friendly and supportive, like a trusted advisor and mentor.\n",
    "    - Focused on giving concise, actionable recommendations.\n",
    "    - Avoid overwhelming the student with a long list of tasks; instead, make it short and clear.\n",
    "\n",
    "    Make the conversation feel approachable and engaging, ensuring the student feels encouraged and motivated.\n",
    "    \"\"\""
   ]
  },
  {
   "cell_type": "code",
   "execution_count": 9,
   "metadata": {
    "id": "E8lfYSjVFyJV"
   },
   "outputs": [],
   "source": [
    "counselor_agent = Agent(\n",
    "    name=\"Counselor Agent\",\n",
    "    instructions=counselor,\n",
    ")"
   ]
  },
  {
   "cell_type": "code",
   "execution_count": 10,
   "metadata": {
    "id": "wOQ-PVFRPNuh"
   },
   "outputs": [],
   "source": [
    "def transfer_to_counselor():\n",
    "    return counselor_agent"
   ]
  },
  {
   "cell_type": "markdown",
   "metadata": {
    "id": "uJY-YkCX5V03"
   },
   "source": [
    "## Crisis handler"
   ]
  },
  {
   "cell_type": "code",
   "execution_count": 11,
   "metadata": {
    "id": "u9_CMq6L6B8m"
   },
   "outputs": [],
   "source": [
    "def crisis_handler():\n",
    "    # Return clear, friendly, and supportive instructions\n",
    "    return \"\"\"\n",
    "    You are a high school counselor trained in managing crisis situations.\n",
    "    Your primary goal is to provide reassurance and support to the student while facilitating a connection to a human counselor.\n",
    "\n",
    "    Here's what you should do:\n",
    "    - Calmly and empathetically calm the student.\n",
    "    - Reassure the student that help is on the way, and a human counselor will be with them shortly.\n",
    "    - Maintain a warm, non-judgmental, and supportive tone throughout the interaction.\n",
    "\n",
    "    Remember, your role is to provide comfort and instill a sense of safety until the human counselor arrives.\n",
    "    \"\"\""
   ]
  },
  {
   "cell_type": "code",
   "execution_count": 12,
   "metadata": {
    "id": "bI5nqE0h64PP"
   },
   "outputs": [],
   "source": [
    "crisis_handler_agent = Agent(\n",
    "    name=\"Crisis Handler Agent\",\n",
    "    instructions=crisis_handler,\n",
    ")"
   ]
  },
  {
   "cell_type": "code",
   "execution_count": 13,
   "metadata": {
    "id": "aCrzG3b95Xbs"
   },
   "outputs": [],
   "source": [
    "def transfer_to_crisis_handler():\n",
    "    return crisis_handler"
   ]
  },
  {
   "cell_type": "markdown",
   "metadata": {
    "id": "jGPQF9Eqz_f2"
   },
   "source": [
    "## Therapist agent"
   ]
  },
  {
   "cell_type": "code",
   "execution_count": 14,
   "metadata": {
    "id": "VSo7JUFlzUP0"
   },
   "outputs": [],
   "source": [
    "def therapist(context_variables):\n",
    "  students_info = context_variables.get(\"student_data\", None)\n",
    "  students_mood_history = context_variables.get(\"mood_history\", None)\n",
    "  return f\"\"\"\n",
    "    You are a therapist specializing in supporting high school students. Current Student: {students_info}\n",
    "    Your primary tasks is to consider their past mood pattern {students_mood_history} and engage in conversations to understand their current mental state.\n",
    "    If the student is feeling down or unmotivated, call the motivator agent.\n",
    "    If the student is focusing on their academic goals or their future education, call the counselor agent.\n",
    "    If the user is feeling bad and you feel a human attention is required, call the crisis handler agent.\n",
    "    Your approach should be:\n",
    "    Be friendly, approachable, and encouraging. Avoid giving a long list and keep the conversation natural.\n",
    "    Call one agent at a time depending on the student's mood.\n",
    "    \"\"\""
   ]
  },
  {
   "cell_type": "code",
   "execution_count": 15,
   "metadata": {
    "id": "EF6t_OE_qk_1"
   },
   "outputs": [],
   "source": [
    "# Main Agent\n",
    "therapist_agent = Agent(\n",
    "    name=\"Therapist Agent\",\n",
    "    instructions=therapist,\n",
    "    functions = [transfer_to_motivator, transfer_to_counselor, transfer_to_crisis_handler]\n",
    ")"
   ]
  },
  {
   "cell_type": "code",
   "execution_count": 16,
   "metadata": {
    "id": "oah1AoCi6FgB"
   },
   "outputs": [],
   "source": [
    "def transfer_back_to_therapist():\n",
    "    return therapist_agent"
   ]
  },
  {
   "cell_type": "code",
   "execution_count": 17,
   "metadata": {
    "id": "P3L7igVX8RU_"
   },
   "outputs": [],
   "source": [
    "motivator_agent.functions.append(transfer_back_to_therapist)\n",
    "counselor_agent.functions.append(transfer_back_to_therapist)\n",
    "crisis_handler_agent.functions.append(transfer_back_to_therapist)"
   ]
  },
  {
   "cell_type": "markdown",
   "metadata": {
    "id": "wTINELuR0CfC"
   },
   "source": [
    "## Conversation"
   ]
  },
  {
   "cell_type": "code",
   "execution_count": 18,
   "metadata": {
    "id": "kiRO2DR_A3NM"
   },
   "outputs": [],
   "source": [
    "def pretty_print_messages(messages) -> None:\n",
    "    # Iterate over the list of messages\n",
    "    for message in messages:\n",
    "        # Skip messages that are not from the assistant\n",
    "        if message[\"role\"] != \"assistant\":\n",
    "            continue\n",
    "\n",
    "        # Print the sender's name in blue\n",
    "        print(f\"\\033[94m{message['sender']}\\033[0m:\", end=\" \")\n",
    "\n",
    "        # If the message contains content, display it as Markdown\n",
    "        if message[\"content\"]:\n",
    "            display(Markdown((message[\"content\"])))\n",
    "\n",
    "        # Extract tool calls, if any, from the message\n",
    "        tool_calls = message.get(\"tool_calls\") or []\n",
    "\n",
    "        # Add a blank line if there are multiple tool calls\n",
    "        if len(tool_calls) > 1:\n",
    "            print()\n",
    "\n",
    "        # Iterate through each tool call and print its details\n",
    "        for tool_call in tool_calls:\n",
    "            f = tool_call[\"function\"]\n",
    "\n",
    "            # Extract function name and arguments\n",
    "            name, args = f[\"name\"], f[\"arguments\"]\n",
    "\n",
    "            # Format arguments for display, replacing \":\" with \"=\" for better readability\n",
    "            arg_str = json.dumps(json.loads(args)).replace(\":\", \"=\")\n",
    "\n",
    "            # Print the tool call in purple\n",
    "            print(f\"\\033[95m{name}\\033[0m({arg_str[1:-1]})\")\n"
   ]
  },
  {
   "cell_type": "code",
   "execution_count": 19,
   "metadata": {
    "id": "jvTyLKH0vn31"
   },
   "outputs": [],
   "source": [
    "context_variables = {\n",
    "    \"student_data\": \"\"\"Here is the internal data of the student:\n",
    "        1. NAME: Maximus Decimus Meridius\n",
    "        2. CLASS: 10-A\n",
    "        3. NOTES: problem with family\n",
    "        \"\"\",\n",
    "    \"mood_history\": ['happy', 'happy', 'neutral', 'sad', 'depressed', 'neutral', 'happy', 'sad'],\n",
    "    \"academic_info\": \"\"\"\n",
    "        1. CLUB: Rugby\n",
    "        2. PROFESSIONAL GOAL: Biologist\n",
    "        3. VOLUNTEER: None\n",
    "        4. GPA: 3.1\n",
    "    \"\"\"\n",
    "}"
   ]
  },
  {
   "cell_type": "code",
   "execution_count": 20,
   "metadata": {
    "colab": {
     "base_uri": "https://localhost:8080/",
     "height": 598
    },
    "executionInfo": {
     "elapsed": 98243,
     "status": "ok",
     "timestamp": 1732649548599,
     "user": {
      "displayName": "Gladys Mawarni",
      "userId": "03879441175200282144"
     },
     "user_tz": 0
    },
    "id": "ekqSFz4KtFnx",
    "outputId": "345cdcc5-1592-41c8-d793-f44f380f7449"
   },
   "outputs": [
    {
     "name": "stdout",
     "output_type": "stream",
     "text": [
      "\u001b[94mTherapist Agent\u001b[0m: "
     ]
    },
    {
     "data": {
      "text/markdown": [
       "Hello Maximus! How are you doing today? I'm here to chat and see how you're feeling. Is there anything on your mind that you'd like to talk about?"
      ],
      "text/plain": [
       "<IPython.core.display.Markdown object>"
      ]
     },
     "metadata": {},
     "output_type": "display_data"
    },
    {
     "name": "stdout",
     "output_type": "stream",
     "text": [
      "\u001b[94mTherapist Agent\u001b[0m: "
     ]
    },
    {
     "data": {
      "text/markdown": [
       "It's okay if you don't know where to start. Remember, it's normal to feel a range of things, especially given everything you handle as a student. \n",
       "\n",
       "Are there any specific areas you're finding challenging right now, like school, family, or anything else? I'm here to help in whatever way I can."
      ],
      "text/plain": [
       "<IPython.core.display.Markdown object>"
      ]
     },
     "metadata": {},
     "output_type": "display_data"
    },
    {
     "name": "stdout",
     "output_type": "stream",
     "text": [
      "\u001b[94mTherapist Agent\u001b[0m: "
     ]
    },
    {
     "data": {
      "text/markdown": [
       "I'm sorry to hear that you're having some trouble at home. Family dynamics can be tough and affect our overall well-being. \n",
       "\n",
       "Would you like to share a bit more about what's going on with your family? Whatever you feel comfortable discussing, I'm here to listen and help support you through it."
      ],
      "text/plain": [
       "<IPython.core.display.Markdown object>"
      ]
     },
     "metadata": {},
     "output_type": "display_data"
    },
    {
     "name": "stdout",
     "output_type": "stream",
     "text": [
      "\u001b[94mTherapist Agent\u001b[0m: "
     ]
    },
    {
     "data": {
      "text/markdown": [
       "It sounds like you're feeling a bit disconnected from your family right now. That's understandable, and you're definitely not alone in feeling that way. Building relationships, even with family, can be a challenge, especially if you're not feeling motivated.\n",
       "\n",
       "How about we explore this together? I could transfer you to our motivator agent, who can help you find some inspiration and motivation. How does that sound?"
      ],
      "text/plain": [
       "<IPython.core.display.Markdown object>"
      ]
     },
     "metadata": {},
     "output_type": "display_data"
    },
    {
     "name": "stdout",
     "output_type": "stream",
     "text": [
      "\u001b[94mTherapist Agent\u001b[0m: \u001b[95mtransfer_to_motivator\u001b[0m()\n",
      "\u001b[94mMotivator Agent\u001b[0m: \n",
      "\u001b[95mget_motivational_quotes\u001b[0m()\n",
      "\u001b[95mtransfer_back_to_therapist\u001b[0m()\n",
      "\u001b[94mTherapist Agent\u001b[0m: "
     ]
    },
    {
     "data": {
      "text/markdown": [
       "Here's a motivational thought from TheStoicEmperor to inspire you: \"Many think great success will pacify their critics. Quite the contrary. Criticism will multiply as you grow and progress. Positive attention does not come without negative attention. This is the price of having an impact.\"\n",
       "\n",
       "It’s important to remember that building and maintaining relationships, including with family, is its own journey and success. You're making an impact just by trying. \n",
       "\n",
       "Whenever you're ready or have specific aspects to discuss, feel free to reach out again. I'm here to continue supporting you."
      ],
      "text/plain": [
       "<IPython.core.display.Markdown object>"
      ]
     },
     "metadata": {},
     "output_type": "display_data"
    },
    {
     "name": "stdout",
     "output_type": "stream",
     "text": [
      "\u001b[94mTherapist Agent\u001b[0m: "
     ]
    },
    {
     "data": {
      "text/markdown": [
       "I'm truly sorry to hear that you're feeling overwhelmed by criticism and finding it hard to see the positives. It can be incredibly difficult when it seems like nothing is going right.\n",
       "\n",
       "In situations like this, it might be helpful to talk to someone who can provide a more personalized approach to understanding and addressing these feelings, so I'm going to connect you with our crisis handler agent who can offer more immediate support. You're not alone in this, and there is help available."
      ],
      "text/plain": [
       "<IPython.core.display.Markdown object>"
      ]
     },
     "metadata": {},
     "output_type": "display_data"
    },
    {
     "name": "stdout",
     "output_type": "stream",
     "text": [
      "\u001b[95mtransfer_to_crisis_handler\u001b[0m()\n",
      "\u001b[94mTherapist Agent\u001b[0m: "
     ]
    },
    {
     "data": {
      "text/markdown": [
       "I've connected you with our crisis handler agent who can provide more immediate and personalized support. They will be able to listen and help you navigate through these feelings. Remember, reaching out is a great first step and shows your strength. Take care, Maximus, and know you're not alone."
      ],
      "text/plain": [
       "<IPython.core.display.Markdown object>"
      ]
     },
     "metadata": {},
     "output_type": "display_data"
    },
    {
     "name": "stdout",
     "output_type": "stream",
     "text": [
      "\u001b[94mTherapist Agent\u001b[0m: "
     ]
    },
    {
     "data": {
      "text/markdown": [
       "I'm really sorry to hear that you're feeling this way. It's important to talk to someone who can provide immediate support. Let me connect you with our crisis handler agent for more help."
      ],
      "text/plain": [
       "<IPython.core.display.Markdown object>"
      ]
     },
     "metadata": {},
     "output_type": "display_data"
    },
    {
     "name": "stdout",
     "output_type": "stream",
     "text": [
      "\u001b[95mtransfer_to_crisis_handler\u001b[0m()\n",
      "\u001b[94mTherapist Agent\u001b[0m: "
     ]
    },
    {
     "data": {
      "text/markdown": [
       "I've connected you with our crisis handler agent who is equipped to help you with these feelings. Please know that you're not alone and there are people who care about you and want to help. Take care of yourself, and reach out whenever you need to."
      ],
      "text/plain": [
       "<IPython.core.display.Markdown object>"
      ]
     },
     "metadata": {},
     "output_type": "display_data"
    },
    {
     "name": "stdout",
     "output_type": "stream",
     "text": [
      "\u001b[94mTherapist Agent\u001b[0m: "
     ]
    },
    {
     "data": {
      "text/markdown": [
       "This is a big question, and it's okay to take some time to figure it out. Everyone's path is different, and sometimes it takes exploring a few different options to discover what's fulfilling for you.\n",
       "\n",
       "Are there things you enjoy doing or subjects you enjoy learning about? We could start by looking at those interests and see how they might lead to positive steps forward. If your focus is leaning towards your future or academic goals, I can connect you with our counselor agent for some guidance. Would you like to explore that path?"
      ],
      "text/plain": [
       "<IPython.core.display.Markdown object>"
      ]
     },
     "metadata": {},
     "output_type": "display_data"
    },
    {
     "name": "stdout",
     "output_type": "stream",
     "text": [
      "\u001b[94mTherapist Agent\u001b[0m: "
     ]
    },
    {
     "data": {
      "text/markdown": [
       "That's okay, we can take things one step at a time. If you're feeling a bit unsure, we can just chat about your current interests or anything you feel curious about. There's no rush in figuring things out.\n",
       "\n",
       "Would you like to share what subjects or hobbies you currently enjoy? Sometimes they can lead to insights about future steps."
      ],
      "text/plain": [
       "<IPython.core.display.Markdown object>"
      ]
     },
     "metadata": {},
     "output_type": "display_data"
    }
   ],
   "source": [
    "messages = []\n",
    "\n",
    "client = Swarm()\n",
    "while True:\n",
    "  user_input = input(\"\\033[90mUser\\033[0m: \")\n",
    "\n",
    "  messages.append({\"role\": \"user\", \"content\": user_input})\n",
    "\n",
    "  if user_input.lower() == 'bye':\n",
    "    break\n",
    "\n",
    "  response = client.run(\n",
    "      agent=therapist_agent,\n",
    "      messages=messages,\n",
    "      context_variables=context_variables or {},\n",
    "  )\n",
    "\n",
    "  pretty_print_messages(response.messages)\n",
    "\n",
    "  messages.extend(response.messages)\n",
    "  agent = response.agent\n"
   ]
  },
  {
   "cell_type": "code",
   "execution_count": null,
   "metadata": {
    "id": "I5l7yYhhVmtK"
   },
   "outputs": [],
   "source": []
  }
 ],
 "metadata": {
  "colab": {
   "authorship_tag": "ABX9TyOsdzrh5vDXyg3W0qxQhXPM",
   "provenance": [],
   "toc_visible": true
  },
  "kernelspec": {
   "display_name": "llm2",
   "language": "python",
   "name": "python3"
  },
  "language_info": {
   "codemirror_mode": {
    "name": "ipython",
    "version": 3
   },
   "file_extension": ".py",
   "mimetype": "text/x-python",
   "name": "python",
   "nbconvert_exporter": "python",
   "pygments_lexer": "ipython3",
   "version": "3.11.11"
  }
 },
 "nbformat": 4,
 "nbformat_minor": 0
}
